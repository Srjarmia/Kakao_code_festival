{
 "cells": [
  {
   "cell_type": "code",
   "execution_count": 1,
   "metadata": {},
   "outputs": [],
   "source": [
    "import numpy as np"
   ]
  },
  {
   "cell_type": "code",
   "execution_count": 2,
   "metadata": {},
   "outputs": [],
   "source": [
    "def l_inpt():\n",
    "    \n",
    "    ex_in = []\n",
    "    n = input()\n",
    "    l = []\n",
    "    s = ''\n",
    "    for i in n:\n",
    "        if (i == '&'):\n",
    "            if s != '':\n",
    "                l += [s]\n",
    "                ex_in += [l]\n",
    "                l = []\n",
    "                s = ''\n",
    "        elif (i == '=' or i == '!'):\n",
    "            if s != '':\n",
    "                l += [s, i]\n",
    "                s = ''\n",
    "        else:\n",
    "            s += i\n",
    "            \n",
    "    l += [s]\n",
    "    ex_in += [l]\n",
    "    return ex_in"
   ]
  },
  {
   "cell_type": "code",
   "execution_count": 3,
   "metadata": {},
   "outputs": [],
   "source": [
    "def fnd_sm(x, i, S, same_list):\n",
    "    \n",
    "    if i == len(S):\n",
    "        return\n",
    "    \n",
    "    for k in range(i, len(S)):\n",
    "        for j in [0, 2]:\n",
    "            if S[k][1] == '=' and x == S[k][j]:\n",
    "                if S[k][j] not in same_list:\n",
    "                    same_list += [S[k][j]]\n",
    "                    fnd_sm(S[k][j], k+1, S, same_list)\n",
    "                if S[k][-j+2] not in same_list:\n",
    "                    same_list += [S[k][-j+2]]\n",
    "                    fnd_sm(S[k][-j+2], k+1, S, same_list)\n",
    "    return same_list\n",
    "                    \n",
    "def fnd_df(S):\n",
    "    \n",
    "    dif_list = []\n",
    "    for i in range(0, len(S)):\n",
    "        if S[i][1] == '!':\n",
    "            dif_list +=  [[S[i][0]] + [S[i][2]]]\n",
    "    return dif_list"
   ]
  },
  {
   "cell_type": "code",
   "execution_count": 4,
   "metadata": {
    "scrolled": true
   },
   "outputs": [],
   "source": [
    "def kakao18_code3(S):\n",
    "    ss_list = []\n",
    "\n",
    "    for i in range(len(S)):\n",
    "        x = S[i][0]\n",
    "        flag = 0\n",
    "        if len(ss_list) != 0:\n",
    "            for j in ss_list:\n",
    "                if x in j:\n",
    "                    flag = 1\n",
    "        if flag == 1:\n",
    "            continue\n",
    "        else:\n",
    "            same_list = []\n",
    "            sm_lst = fnd_sm(x, i, S, same_list)\n",
    "            if len(sm_lst) != 0:\n",
    "                ss_list += [sm_lst]\n",
    "\n",
    "    sd_list = fnd_df(S)\n",
    "    fnd_minS = [np.argmin([len(j) for j in i]) for i in ss_list]\n",
    "    \n",
    "    S2 = []\n",
    "    for i in range(len(ss_list)):\n",
    "        for j in range(len(ss_list[i])):\n",
    "            m = fnd_minS[i]\n",
    "            if j != m:\n",
    "                S2 += [ss_list[i][m] + '==' + ss_list[i][j]]\n",
    "    for i in sd_list:\n",
    "        for j in [0,1]:\n",
    "            for k in range(len(ss_list)):\n",
    "                if i[j] in ss_list[k]:\n",
    "                    i[j] = ss_list[k][fnd_minS[k]]\n",
    "        S2 += [i[0] + \"!=\" + i[1]]\n",
    "\n",
    "    return '&&'.join(S2)"
   ]
  },
  {
   "cell_type": "code",
   "execution_count": 5,
   "metadata": {
    "scrolled": false
   },
   "outputs": [
    {
     "name": "stdout",
     "output_type": "stream",
     "text": [
      "festival==kakao&&festival==2018&&haha==123456&&hoho!=123456\n"
     ]
    },
    {
     "data": {
      "text/plain": [
       "'2018==festival&&2018==kakao&&haha==123456&&hoho!=haha'"
      ]
     },
     "execution_count": 5,
     "metadata": {},
     "output_type": "execute_result"
    }
   ],
   "source": [
    "kakao18_code3(l_inpt())"
   ]
  },
  {
   "cell_type": "code",
   "execution_count": 6,
   "metadata": {},
   "outputs": [
    {
     "data": {
      "text/plain": [
       "[1, 2, 3, 5, 6, 7, 8]"
      ]
     },
     "execution_count": 6,
     "metadata": {},
     "output_type": "execute_result"
    }
   ],
   "source": [
    "# 순서를 유지한 중복 제거\n",
    "from collections import OrderedDict\n",
    "\n",
    "originalList = [1, 2, 3, 1, 2, 5, 6, 7, 8]\n",
    "list(OrderedDict.fromkeys(originalList))"
   ]
  }
 ],
 "metadata": {
  "kernelspec": {
   "display_name": "Python 3",
   "language": "python",
   "name": "python3"
  },
  "language_info": {
   "codemirror_mode": {
    "name": "ipython",
    "version": 3
   },
   "file_extension": ".py",
   "mimetype": "text/x-python",
   "name": "python",
   "nbconvert_exporter": "python",
   "pygments_lexer": "ipython3",
   "version": "3.6.6"
  }
 },
 "nbformat": 4,
 "nbformat_minor": 2
}
