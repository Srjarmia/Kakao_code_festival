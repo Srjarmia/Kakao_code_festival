{
 "cells": [
  {
   "cell_type": "code",
   "execution_count": 1,
   "metadata": {},
   "outputs": [],
   "source": [
    "v = ['*', '+', '+']\n",
    "\n",
    "def tmop(v):\n",
    "    a = 1\n",
    "    for i in range(len(v)):\n",
    "        if v[i] == '*':\n",
    "            a *= 3\n",
    "        elif v[i] == '+':\n",
    "            a += 1\n",
    "        else:\n",
    "            print(\"invalid\")\n",
    "            break\n",
    "    return a\n",
    "\n",
    "\n",
    "class mission4():\n",
    "    def __init__(self, n):\n",
    "        self.n = n\n",
    "        self.v_t = ['*', '+', '+']\n",
    "        self.k = 0\n",
    "    \n",
    "    def m_v(self, v):\n",
    "        a = tmop(v)\n",
    "        l = len(v)\n",
    "        v_k = v[:]\n",
    "        if a == self.n:\n",
    "            self.k+=1\n",
    "        if a > self.n:\n",
    "            return self.k\n",
    "        for i in range(0,l):\n",
    "            if v[i] == '*':\n",
    "                t = i\n",
    "        for i in range(t+1,l+1):\n",
    "            v = v_k[:]\n",
    "            v_p = v[i:]\n",
    "            v[i:] = self.v_t[:]\n",
    "            v[i+3:] = v_p\n",
    "            a = tmop(v)\n",
    "            if a > self.n:\n",
    "                return self.k\n",
    "            self.m_v(v)\n",
    "        return self.k"
   ]
  },
  {
   "cell_type": "code",
   "execution_count": 2,
   "metadata": {},
   "outputs": [
    {
     "data": {
      "text/plain": [
       "2"
      ]
     },
     "execution_count": 2,
     "metadata": {},
     "output_type": "execute_result"
    }
   ],
   "source": [
    "n = 41\n",
    "m4 = mission4(n)\n",
    "m4.m_v(v)"
   ]
  },
  {
   "cell_type": "code",
   "execution_count": null,
   "metadata": {},
   "outputs": [],
   "source": []
  }
 ],
 "metadata": {
  "kernelspec": {
   "display_name": "Python 3",
   "language": "python",
   "name": "python3"
  },
  "language_info": {
   "codemirror_mode": {
    "name": "ipython",
    "version": 3
   },
   "file_extension": ".py",
   "mimetype": "text/x-python",
   "name": "python",
   "nbconvert_exporter": "python",
   "pygments_lexer": "ipython3",
   "version": "3.6.6"
  }
 },
 "nbformat": 4,
 "nbformat_minor": 2
}
