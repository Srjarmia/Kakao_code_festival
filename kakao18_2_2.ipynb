{
 "cells": [
  {
   "cell_type": "code",
   "execution_count": 6,
   "metadata": {},
   "outputs": [],
   "source": [
    "import numpy as np"
   ]
  },
  {
   "cell_type": "code",
   "execution_count": 7,
   "metadata": {},
   "outputs": [],
   "source": [
    "def l_inpt():\n",
    "    ex_in = []\n",
    "    for i in range(2):\n",
    "        n = input()\n",
    "        l = []\n",
    "        s = ''\n",
    "        for i in n:\n",
    "            if i == ' ':\n",
    "                l += [int(s)]\n",
    "                s = ''\n",
    "            else:\n",
    "                s += i\n",
    "        l += [int(s)]\n",
    "        ex_in += [l]\n",
    "    return ex_in"
   ]
  },
  {
   "cell_type": "code",
   "execution_count": 8,
   "metadata": {},
   "outputs": [],
   "source": [
    "def sample_doll(a, k, N):\n",
    "    end = N - k + 1\n",
    "    b = []\n",
    "    for i in range(0, end):\n",
    "        b += [a[i:i+k]]\n",
    "    return b"
   ]
  },
  {
   "cell_type": "code",
   "execution_count": 11,
   "metadata": {},
   "outputs": [],
   "source": [
    "def kakao18_code2():\n",
    "    like_doll = l_inpt()\n",
    "    N, k = like_doll[0][0], like_doll[0][1]\n",
    "    a = like_doll[1]\n",
    "    \n",
    "    b = []\n",
    "    d = []\n",
    "    for i in range(k, N+1):\n",
    "        b += sample_doll(a, i, N)\n",
    "        \n",
    "    for i in range(len(b)):\n",
    "        d += [np.std(b[i])]\n",
    "    return np.min(d)"
   ]
  },
  {
   "cell_type": "code",
   "execution_count": 12,
   "metadata": {},
   "outputs": [
    {
     "name": "stdout",
     "output_type": "stream",
     "text": [
      "5 3\n",
      "1 2 3 4 5\n"
     ]
    },
    {
     "data": {
      "text/plain": [
       "0.816496580927726"
      ]
     },
     "execution_count": 12,
     "metadata": {},
     "output_type": "execute_result"
    }
   ],
   "source": [
    "kakao18_code2()"
   ]
  },
  {
   "cell_type": "code",
   "execution_count": 13,
   "metadata": {},
   "outputs": [
    {
     "name": "stdout",
     "output_type": "stream",
     "text": [
      "10 3\n",
      "1 4 1 5 9 2 6 5 3 5\n"
     ]
    },
    {
     "data": {
      "text/plain": [
       "0.9428090415820634"
      ]
     },
     "execution_count": 13,
     "metadata": {},
     "output_type": "execute_result"
    }
   ],
   "source": [
    "kakao18_code2()"
   ]
  },
  {
   "cell_type": "code",
   "execution_count": 1,
   "metadata": {},
   "outputs": [
    {
     "name": "stdout",
     "output_type": "stream",
     "text": [
      "5 3\n",
      "1 2 3 4 5\n",
      "0.816496580927726\n"
     ]
    }
   ],
   "source": [
    "import numpy as np\n",
    "\n",
    "\n",
    "while True:\n",
    "    N,K=map(int,input().split())\n",
    "    N_num=input().split()\n",
    "    if N<=500 and N>=1 and K<=N and K>=1 and len(N_num)==int(N):\n",
    "        break\n",
    "    print('N은 1이상 500이하의 정수이고, K는 1이상 N이하의 정수입니다. 두 번째 줄에는 N개의 정수가 입력되어야합니다.')\n",
    "N_num=[int(i) for i in N_num]\n",
    "var_vector=[]\n",
    "for i in range(N-K+1):\n",
    "    var_vector+=[np.sqrt(np.var(N_num[i:i+K]))]\n",
    "print(np.min(var_vector))"
   ]
  },
  {
   "cell_type": "code",
   "execution_count": 15,
   "metadata": {},
   "outputs": [
    {
     "name": "stdout",
     "output_type": "stream",
     "text": [
      "['ab', 'cd', 'ef']\n",
      "ab+cd+ef\n"
     ]
    }
   ],
   "source": [
    "a = 'ab,cd,ef'\n",
    "a = a.split(',')\n",
    "print(a)\n",
    "a = '+'.join(a)\n",
    "print(a)"
   ]
  },
  {
   "cell_type": "code",
   "execution_count": 16,
   "metadata": {},
   "outputs": [
    {
     "name": "stdout",
     "output_type": "stream",
     "text": [
      "['ab', 'cd', 'ef']\n",
      "ab!=cd!=ef\n"
     ]
    }
   ],
   "source": [
    "a = 'ab=cd=ef'\n",
    "a = a.split('=')\n",
    "print(a)\n",
    "a = '!='.join(a)\n",
    "print(a)"
   ]
  },
  {
   "cell_type": "code",
   "execution_count": null,
   "metadata": {},
   "outputs": [],
   "source": []
  }
 ],
 "metadata": {
  "kernelspec": {
   "display_name": "Python 3",
   "language": "python",
   "name": "python3"
  },
  "language_info": {
   "codemirror_mode": {
    "name": "ipython",
    "version": 3
   },
   "file_extension": ".py",
   "mimetype": "text/x-python",
   "name": "python",
   "nbconvert_exporter": "python",
   "pygments_lexer": "ipython3",
   "version": "3.6.6"
  }
 },
 "nbformat": 4,
 "nbformat_minor": 2
}
