{
 "cells": [
  {
   "cell_type": "code",
   "execution_count": 1,
   "metadata": {},
   "outputs": [],
   "source": [
    "import numpy as np"
   ]
  },
  {
   "cell_type": "code",
   "execution_count": 2,
   "metadata": {},
   "outputs": [],
   "source": [
    "award_17 = [5e6, 3e6, 2e6, 5e5, 3e5, 1e5]\n",
    "a_rank = np.zeros(100)\n",
    "k = 0\n",
    "for i in range(1,7):\n",
    "    for j in range(i):\n",
    "        a_rank[k] = award_17[i-1]\n",
    "        k += 1\n",
    "        \n",
    "award_18 = [512e4, 256e4, 128e4, 64e4, 32e4]\n",
    "b_rank = np.zeros(64)\n",
    "k = 0\n",
    "for i in range(5):\n",
    "    for j in range(2**i):\n",
    "        b_rank[k] += award_18[i]\n",
    "        k += 1\n",
    "        \n",
    "def total_award(ex_in):\n",
    "    for i in range(len(ex_in)):\n",
    "        if i == 0:\n",
    "            T = ex_in[i][0]\n",
    "        else:\n",
    "            a = ex_in[i][0]\n",
    "            b = ex_in[i][1]\n",
    "            print(a_rank[a-1]+b_rank[b-1])"
   ]
  },
  {
   "cell_type": "code",
   "execution_count": 3,
   "metadata": {},
   "outputs": [],
   "source": [
    "def kakao18_code1():\n",
    "    ex_in = []\n",
    "    p = int(input())\n",
    "    ex_in += [[p]]\n",
    "    for i in range(p):\n",
    "        n = input()\n",
    "        l = []\n",
    "        s = ''\n",
    "        for i in n:\n",
    "            if i == ' ':\n",
    "                l += [int(s)]\n",
    "                s = ''\n",
    "            else:\n",
    "                s += i\n",
    "        l += [int(s)]\n",
    "        ex_in += [l]\n",
    "    print()\n",
    "    print('결과')\n",
    "    total_award(ex_in)"
   ]
  },
  {
   "cell_type": "code",
   "execution_count": 8,
   "metadata": {
    "scrolled": false
   },
   "outputs": [
    {
     "name": "stdout",
     "output_type": "stream",
     "text": [
      "3\n",
      "12 56\n",
      "20 45\n",
      "1 4\n",
      "\n",
      "결과\n",
      "300000.0\n",
      "100000.0\n",
      "6280000.0\n"
     ]
    }
   ],
   "source": [
    "kakao18_code1()"
   ]
  }
 ],
 "metadata": {
  "kernelspec": {
   "display_name": "Python 3",
   "language": "python",
   "name": "python3"
  },
  "language_info": {
   "codemirror_mode": {
    "name": "ipython",
    "version": 3
   },
   "file_extension": ".py",
   "mimetype": "text/x-python",
   "name": "python",
   "nbconvert_exporter": "python",
   "pygments_lexer": "ipython3",
   "version": "3.6.6"
  }
 },
 "nbformat": 4,
 "nbformat_minor": 2
}
