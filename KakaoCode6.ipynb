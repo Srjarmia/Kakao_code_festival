{
 "cells": [
  {
   "cell_type": "code",
   "execution_count": 1,
   "metadata": {},
   "outputs": [],
   "source": [
    "def tree_cnt(g, na, n):\n",
    "    sly = []\n",
    "    for j in range(n-1):\n",
    "        if na == g[j][0]:\n",
    "            sly += [g[j][1]]\n",
    "        elif na == g[j][1]:\n",
    "            sly += [g[j][0]]\n",
    "    return sly\n",
    "\n",
    "def tree_fd(ut, tree, a, b, lf):\n",
    "    lf += 1\n",
    "    a -= 1\n",
    "    for i in range(len(tree[a])):\n",
    "        if (tree[a][i] - 1) != b:\n",
    "            ut += [lf]\n",
    "            tree_fd(ut, tree, tree[a][i], a, lf)\n",
    "    return ut\n",
    "\n",
    "def inter_tree(t1, t2):\n",
    "    tn1 = len(t1)\n",
    "    tn2 = len(t2)\n",
    "    ct = []\n",
    "    j = 0\n",
    "    for i in range(tn1):\n",
    "        c = t1[i]\n",
    "        while(j < tn2):\n",
    "            if c == t2[j]:\n",
    "                ct += [c]\n",
    "                j += 1\n",
    "                break\n",
    "            elif c > t2[j]:\n",
    "                break\n",
    "            else:\n",
    "                j += 1\n",
    "    return ct"
   ]
  },
  {
   "cell_type": "code",
   "execution_count": 3,
   "metadata": {},
   "outputs": [],
   "source": [
    "class mission_6():\n",
    "    \n",
    "    def __init__(self, n1, g1, n2, g2):\n",
    "        self.n1 = n1\n",
    "        self.n2 = n2\n",
    "        self.g1 = g1\n",
    "        self.g2 = g2\n",
    "        \n",
    "    def big_tr(self):\n",
    "        tree1, tree2 = [], []\n",
    "        \n",
    "        for i in range(1, self.n1+1):\n",
    "            sly1 = tree_cnt(self.g1, i, self.n1)\n",
    "            tree1 += [sly1]\n",
    "\n",
    "        for i in range(1, self.n2+1):\n",
    "            sly2 = tree_cnt(self.g2, i, self.n2)\n",
    "            tree2 += [sly2]\n",
    "\n",
    "        answer, lf = 0, 0\n",
    "        for i in range(1, self.n1+1):\n",
    "            for j in range(1, self.n2+1):\n",
    "                ut1, ut2 = [], []\n",
    "                t1 = tree_fd(ut1, tree1, i, -1, lf)\n",
    "                t2 = tree_fd(ut2, tree2, j, -1, lf)\n",
    "                it = len(inter_tree(t1,t2)) + 1\n",
    "                if answer < it:\n",
    "                    answer = it\n",
    "        return answer"
   ]
  },
  {
   "cell_type": "code",
   "execution_count": 4,
   "metadata": {},
   "outputs": [],
   "source": [
    "n1 = 8\n",
    "g1 = [[3, 1], [5, 7], [8, 7], [2, 3], [3, 6], [1, 5], [4, 3]]\n",
    "n2 = 10\n",
    "g2 = [[1, 5], [5, 6], [3, 7], [3, 1], [7, 4], [7, 2], [9, 8], [5, 9], [6, 10]]\n",
    "\n",
    "m6 = mission_6(n1, g1, n2, g2)\n",
    "answer = m6.big_tr()"
   ]
  },
  {
   "cell_type": "code",
   "execution_count": 5,
   "metadata": {},
   "outputs": [
    {
     "data": {
      "text/plain": [
       "7"
      ]
     },
     "execution_count": 5,
     "metadata": {},
     "output_type": "execute_result"
    }
   ],
   "source": [
    "answer"
   ]
  },
  {
   "cell_type": "code",
   "execution_count": null,
   "metadata": {},
   "outputs": [],
   "source": []
  }
 ],
 "metadata": {
  "kernelspec": {
   "display_name": "Python 3",
   "language": "python",
   "name": "python3"
  },
  "language_info": {
   "codemirror_mode": {
    "name": "ipython",
    "version": 3
   },
   "file_extension": ".py",
   "mimetype": "text/x-python",
   "name": "python",
   "nbconvert_exporter": "python",
   "pygments_lexer": "ipython3",
   "version": "3.6.6"
  }
 },
 "nbformat": 4,
 "nbformat_minor": 2
}
