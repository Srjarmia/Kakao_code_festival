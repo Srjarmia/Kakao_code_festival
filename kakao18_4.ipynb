{
 "cells": [
  {
   "cell_type": "code",
   "execution_count": 1,
   "metadata": {},
   "outputs": [],
   "source": [
    "def l_inpt(x):\n",
    "    ex_in = []\n",
    "    for i in range(x):\n",
    "        n = input()\n",
    "        l = []\n",
    "        s = ''\n",
    "        for i in n:\n",
    "            if i == ' ':\n",
    "                l += [int(s)]\n",
    "                s = ''\n",
    "            else:\n",
    "                s += i\n",
    "        l += [int(s)]\n",
    "        ex_in += [l]\n",
    "    return ex_in"
   ]
  },
  {
   "cell_type": "code",
   "execution_count": 2,
   "metadata": {},
   "outputs": [],
   "source": [
    "class kakao18_code4():\n",
    "    \n",
    "    def __init__(self):\n",
    "        self.flag = 0\n",
    "        [[N, Q]] = l_inpt(1)\n",
    "        self.N_list = l_inpt(N)\n",
    "        self.Q_list = l_inpt(Q)\n",
    "        print()\n",
    "    \n",
    "    def find_end(self, user, des, HP):\n",
    "        if user == des:\n",
    "            self.flag = 1\n",
    "            return \n",
    "\n",
    "        for i in range(len(self.N_list)):\n",
    "            for j in [0, 1]:\n",
    "                if i >= len(self.N_list):\n",
    "                    return\n",
    "                if user[j] == self.N_list[i][j]:\n",
    "                    i_list, i_user = self.N_list[:], user[:]\n",
    "                    user = self.N_list.pop(i)\n",
    "                    for x in range(HP+1):\n",
    "                        for y in range(HP+1-x):\n",
    "                            user_d = [user[0] + x, user[1] + y]\n",
    "                            self.find_end(user_d, des, HP)\n",
    "                    if self.flag == 1:\n",
    "                        return\n",
    "                    self.N_list, user = i_list[:], i_user[:]\n",
    "    \n",
    "    def game_check(self, start_p, end_p, HP):\n",
    "        P_list = self.N_list[:]\n",
    "        des = self.N_list[end_p-1]\n",
    "        user = self.N_list.pop(start_p-1)\n",
    "\n",
    "        if user == des:\n",
    "            self.flag = 1\n",
    "\n",
    "        for x in range(HP+1):\n",
    "            for y in range(HP+1-x):\n",
    "                user_d = [user[0] + x, user[1] + y]\n",
    "                self.find_end(user_d, des, HP)\n",
    "        self.N_list = P_list[:]\n",
    "        \n",
    "    def flag_check(self):\n",
    "        if self.flag == 1:\n",
    "            return 'YES'\n",
    "        else:\n",
    "            return 'NO'\n",
    "        \n",
    "    def game_start(self):\n",
    "        for i in self.Q_list:\n",
    "            self.game_check(i[0], i[1], i[2])\n",
    "            print(self.flag_check())\n",
    "            self.flag = 0     "
   ]
  },
  {
   "cell_type": "code",
   "execution_count": 3,
   "metadata": {},
   "outputs": [
    {
     "name": "stdout",
     "output_type": "stream",
     "text": [
      "5 6\n",
      "1 2\n",
      "3 2\n",
      "4 4\n",
      "6 2\n",
      "3 9\n",
      "1 5 0\n",
      "3 4 0\n",
      "3 4 2\n",
      "4 3 1\n",
      "1 3 1\n",
      "1 3 0\n",
      "\n",
      "YES\n",
      "NO\n",
      "YES\n",
      "YES\n",
      "YES\n",
      "NO\n"
     ]
    }
   ],
   "source": [
    "k4 = kakao18_code4()            \n",
    "k4.game_start()"
   ]
  },
  {
   "cell_type": "code",
   "execution_count": null,
   "metadata": {},
   "outputs": [],
   "source": []
  }
 ],
 "metadata": {
  "kernelspec": {
   "display_name": "Python 3",
   "language": "python",
   "name": "python3"
  },
  "language_info": {
   "codemirror_mode": {
    "name": "ipython",
    "version": 3
   },
   "file_extension": ".py",
   "mimetype": "text/x-python",
   "name": "python",
   "nbconvert_exporter": "python",
   "pygments_lexer": "ipython3",
   "version": "3.6.6"
  }
 },
 "nbformat": 4,
 "nbformat_minor": 2
}
