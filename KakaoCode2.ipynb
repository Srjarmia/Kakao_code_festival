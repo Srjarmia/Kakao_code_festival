{
 "cells": [
  {
   "cell_type": "code",
   "execution_count": 1,
   "metadata": {},
   "outputs": [],
   "source": [
    "city_map = [[0, 2, 0, 0, 0, 2], [0, 0, 2, 0, 1, 0], [1, 0, 0, 2, 2, 0]]"
   ]
  },
  {
   "cell_type": "code",
   "execution_count": 2,
   "metadata": {},
   "outputs": [],
   "source": [
    "class mission_2():\n",
    "    \n",
    "    def __init__(self, city_map):\n",
    "        self.map = []\n",
    "        for i in range(len(city_map)):\n",
    "            self.map+=[city_map[i][:]]\n",
    "        self.m = len(self.map)\n",
    "        self.n = len(self.map[0])\n",
    "        self.ld = 0\n",
    "        \n",
    "    def fnd_ld(self, a, b):\n",
    "        self.fnd_ld1(a, b)\n",
    "        self.fnd_ld2(a, b)\n",
    "        \n",
    "    def fnd_ld1(self, a, b):\n",
    "        if (a+1) >= self.m:\n",
    "            return\n",
    "        elif (self.map[a+1][b] == 0):\n",
    "            if (a+1 == (self.m-1)) & (b == (self.n-1)):\n",
    "                self.ld += 1\n",
    "                return\n",
    "            a += 1\n",
    "            self.fnd_ld(a, b)\n",
    "        elif (self.map[a+1][b] == 2):\n",
    "            if (a+1 == (self.m-1)) & (b == (self.n-1)):\n",
    "                self.ld += 1\n",
    "                return\n",
    "            a += 1\n",
    "            self.fnd_ld1(a, b)\n",
    "        else:\n",
    "            return\n",
    "        \n",
    "    def fnd_ld2(self, a, b):\n",
    "        if (b+1) >= self.n:\n",
    "            return\n",
    "        elif (self.map[a][b+1] == 0):\n",
    "            if (a == (self.m-1)) & (b+1 == (self.n-1)):\n",
    "                self.ld += 1\n",
    "                return\n",
    "            b += 1\n",
    "            self.fnd_ld(a, b)\n",
    "        elif (self.map[a][b+1] == 2):\n",
    "            if (a == (self.m-1)) & (b+1 == (self.n-1)):\n",
    "                self.ld += 1\n",
    "                return\n",
    "            b += 1\n",
    "            self.fnd_ld2(a, b)\n",
    "        else:\n",
    "            return\n",
    "\n",
    "    def all_ld(self):\n",
    "        a, b = 0, 0\n",
    "        if (self.map[a][b] == 0):\n",
    "            self.fnd_ld(a, b)\n",
    "                \n",
    "        return self.ld%20170805"
   ]
  },
  {
   "cell_type": "code",
   "execution_count": 3,
   "metadata": {},
   "outputs": [
    {
     "data": {
      "text/plain": [
       "2"
      ]
     },
     "execution_count": 3,
     "metadata": {},
     "output_type": "execute_result"
    }
   ],
   "source": [
    "m2 = mission_2(city_map)\n",
    "m2.all_ld()"
   ]
  },
  {
   "cell_type": "code",
   "execution_count": null,
   "metadata": {},
   "outputs": [],
   "source": []
  }
 ],
 "metadata": {
  "kernelspec": {
   "display_name": "Python 3",
   "language": "python",
   "name": "python3"
  },
  "language_info": {
   "codemirror_mode": {
    "name": "ipython",
    "version": 3
   },
   "file_extension": ".py",
   "mimetype": "text/x-python",
   "name": "python",
   "nbconvert_exporter": "python",
   "pygments_lexer": "ipython3",
   "version": "3.6.6"
  }
 },
 "nbformat": 4,
 "nbformat_minor": 2
}
