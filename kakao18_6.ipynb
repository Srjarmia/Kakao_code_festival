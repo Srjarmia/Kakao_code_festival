{
 "cells": [
  {
   "cell_type": "code",
   "execution_count": 1,
   "metadata": {},
   "outputs": [],
   "source": [
    "def l_inpt(x):\n",
    "    ex_in = []\n",
    "    for i in range(x):\n",
    "        n = input()\n",
    "        l = []\n",
    "        s = ''\n",
    "        for i in n:\n",
    "            if i == ' ':\n",
    "                l += [int(s)]\n",
    "                s = ''\n",
    "            else:\n",
    "                s += i\n",
    "        l += [int(s)]\n",
    "        ex_in += [l]\n",
    "    return ex_in"
   ]
  },
  {
   "cell_type": "code",
   "execution_count": 2,
   "metadata": {
    "scrolled": false
   },
   "outputs": [
    {
     "name": "stdout",
     "output_type": "stream",
     "text": [
      "8\n",
      "0 0\n",
      "0 100\n",
      "100 100\n",
      "100 50\n",
      "125 50\n",
      "125 60\n",
      "150 60\n",
      "150 0\n"
     ]
    }
   ],
   "source": [
    "N = int(input())\n",
    "m = l_inpt(N)"
   ]
  },
  {
   "cell_type": "code",
   "execution_count": 4,
   "metadata": {},
   "outputs": [],
   "source": [
    "def distance(a, b):\n",
    "    return (((a[0]-b[0])**2+(a[1]-b[1])**2))**(1/2)"
   ]
  },
  {
   "cell_type": "code",
   "execution_count": 46,
   "metadata": {},
   "outputs": [
    {
     "name": "stdout",
     "output_type": "stream",
     "text": [
      "100.0\n",
      "100.0 100.0\n",
      "50.0\n",
      "125.0 25.0\n",
      "60.0\n",
      "150.0 25.0\n",
      "0.0\n"
     ]
    }
   ],
   "source": [
    "x, y = 0, 0\n",
    "below_space = []\n",
    "above_space = []\n",
    "for i in range(N-1):\n",
    "    if m[i][1] > m[i+1][1]:\n",
    "        y -= distance(m[i],m[i+1])\n",
    "        print(y)\n",
    "    elif m[i][1] < m[i+1][1]:\n",
    "        y += distance(m[i],m[i+1])\n",
    "        \n",
    "    else:   \n",
    "        t_x = distance(m[i],m[i+1])\n",
    "        x += t_x\n",
    "        print(x, t_x)"
   ]
  },
  {
   "cell_type": "code",
   "execution_count": 41,
   "metadata": {},
   "outputs": [
    {
     "data": {
      "text/plain": [
       "25.0"
      ]
     },
     "execution_count": 41,
     "metadata": {},
     "output_type": "execute_result"
    }
   ],
   "source": [
    "y"
   ]
  },
  {
   "cell_type": "code",
   "execution_count": 42,
   "metadata": {},
   "outputs": [
    {
     "data": {
      "text/plain": [
       "[5000.0, 1500.0]"
      ]
     },
     "execution_count": 42,
     "metadata": {},
     "output_type": "execute_result"
    }
   ],
   "source": [
    "s"
   ]
  },
  {
   "cell_type": "code",
   "execution_count": 43,
   "metadata": {},
   "outputs": [
    {
     "data": {
      "text/plain": [
       "[5000.0, -1250.0]"
      ]
     },
     "execution_count": 43,
     "metadata": {},
     "output_type": "execute_result"
    }
   ],
   "source": [
    "b_s"
   ]
  },
  {
   "cell_type": "code",
   "execution_count": null,
   "metadata": {},
   "outputs": [],
   "source": []
  }
 ],
 "metadata": {
  "kernelspec": {
   "display_name": "Python 3",
   "language": "python",
   "name": "python3"
  },
  "language_info": {
   "codemirror_mode": {
    "name": "ipython",
    "version": 3
   },
   "file_extension": ".py",
   "mimetype": "text/x-python",
   "name": "python",
   "nbconvert_exporter": "python",
   "pygments_lexer": "ipython3",
   "version": "3.6.6"
  }
 },
 "nbformat": 4,
 "nbformat_minor": 2
}
