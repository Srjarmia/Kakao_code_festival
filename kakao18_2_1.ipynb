{
 "cells": [
  {
   "cell_type": "code",
   "execution_count": 1,
   "metadata": {},
   "outputs": [],
   "source": [
    "import numpy as np"
   ]
  },
  {
   "cell_type": "code",
   "execution_count": 2,
   "metadata": {},
   "outputs": [],
   "source": [
    "def l_inpt():\n",
    "    ex_in = []\n",
    "    for i in range(2):\n",
    "        n = input()\n",
    "        l = []\n",
    "        s = ''\n",
    "        for i in n:\n",
    "            if i == ' ':\n",
    "                l += [int(s)]\n",
    "                s = ''\n",
    "            else:\n",
    "                s += i\n",
    "        l += [int(s)]\n",
    "        ex_in += [l]\n",
    "    return ex_in"
   ]
  },
  {
   "cell_type": "code",
   "execution_count": 2,
   "metadata": {},
   "outputs": [],
   "source": [
    "def sample_doll(start, end, a, b, c, N):\n",
    "    if end == N:\n",
    "        d = b[:]\n",
    "        for i in range(start, end):\n",
    "            b += [a[i]]\n",
    "            c += [b]\n",
    "            b = d[:]\n",
    "        return\n",
    "    else:\n",
    "        d = b[:]\n",
    "        for i in range(start, end):\n",
    "            b += [a[i]]\n",
    "            sample_doll(i+1, end+1, a, b, c, N)\n",
    "            b = d[:]"
   ]
  },
  {
   "cell_type": "code",
   "execution_count": 17,
   "metadata": {
    "scrolled": true
   },
   "outputs": [],
   "source": [
    "def kakao18_code2():\n",
    "    like_doll = l_inpt()\n",
    "    N, k = like_doll[0][0], like_doll[0][1]\n",
    "    a = like_doll[1]\n",
    "    \n",
    "    c = []\n",
    "    d = []\n",
    "    start = 0\n",
    "    for i in range(k, N+1):\n",
    "        b = []\n",
    "        end = N-i+1\n",
    "        sample_doll(start, end, a, b, c, N)\n",
    "    for i in range(len(c)):\n",
    "        d += [np.std(c[i])]\n",
    "    return np.min(d)"
   ]
  },
  {
   "cell_type": "code",
   "execution_count": 18,
   "metadata": {
    "scrolled": true
   },
   "outputs": [
    {
     "name": "stdout",
     "output_type": "stream",
     "text": [
      "5 3\n",
      "1 2 3 4 5\n"
     ]
    },
    {
     "data": {
      "text/plain": [
       "0.816496580927726"
      ]
     },
     "execution_count": 18,
     "metadata": {},
     "output_type": "execute_result"
    }
   ],
   "source": [
    "kakao18_code2()"
   ]
  },
  {
   "cell_type": "code",
   "execution_count": 21,
   "metadata": {
    "scrolled": false
   },
   "outputs": [
    {
     "name": "stdout",
     "output_type": "stream",
     "text": [
      "7 3\n",
      "1 4 1 5 9 6 2\n"
     ]
    },
    {
     "data": {
      "text/plain": [
       "0.4714045207910317"
      ]
     },
     "execution_count": 21,
     "metadata": {},
     "output_type": "execute_result"
    }
   ],
   "source": [
    "kakao18_code2()"
   ]
  },
  {
   "cell_type": "code",
   "execution_count": 9,
   "metadata": {},
   "outputs": [],
   "source": [
    "a = [1, 2, 3, 4, 5, 6, 7, 8, 9, 10]\n",
    "b = []\n",
    "c = []\n",
    "start = 0\n",
    "k = 3\n",
    "N = 10\n",
    "for i in range(k, N+1):\n",
    "        b = []\n",
    "        end = N-i+1\n",
    "        sample_doll(start, end, a, b, c, N)"
   ]
  },
  {
   "cell_type": "code",
   "execution_count": null,
   "metadata": {},
   "outputs": [],
   "source": []
  }
 ],
 "metadata": {
  "kernelspec": {
   "display_name": "Python 3",
   "language": "python",
   "name": "python3"
  },
  "language_info": {
   "codemirror_mode": {
    "name": "ipython",
    "version": 3
   },
   "file_extension": ".py",
   "mimetype": "text/x-python",
   "name": "python",
   "nbconvert_exporter": "python",
   "pygments_lexer": "ipython3",
   "version": "3.6.6"
  }
 },
 "nbformat": 4,
 "nbformat_minor": 2
}
