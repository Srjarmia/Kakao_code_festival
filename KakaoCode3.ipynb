{
 "cells": [
  {
   "cell_type": "code",
   "execution_count": 1,
   "metadata": {},
   "outputs": [],
   "source": [
    "def rule1(s):\n",
    "    clr_str, ncl_str = '', s\n",
    "    l = len(s)\n",
    "    if l <= 3:\n",
    "        return clr_str, ncl_str\n",
    "    \n",
    "    if (int(s[1] >= 'a') & int(s[1] <= 'z')):\n",
    "        for i in range(1,l,2):\n",
    "            if (s[i] == s[1]):\n",
    "                clr_str+=s[i-1]\n",
    "                if (i+2 >= l):\n",
    "                    clr_str+=s[i+1]\n",
    "                    ncl_str=s[i+2:l]\n",
    "                    break\n",
    "            else:\n",
    "                clr_str+=s[i-1]\n",
    "                ncl_str=s[i:l]\n",
    "                break\n",
    "    return clr_str, ncl_str\n",
    "\n",
    "def rule2(s):\n",
    "    clr_str, ncl_str = '', s\n",
    "    l = len(s)\n",
    "    if l <= 3:\n",
    "        return clr_str, ncl_str\n",
    "    \n",
    "    if (int(s[0] >= 'a') & int(s[0] <= 'z')):\n",
    "        for i in range(1,l):\n",
    "            if s[i] == s[0]:\n",
    "                clr_str=s[1:i]\n",
    "                ncl_str=s[i+1:l]\n",
    "                break\n",
    "    return clr_str, ncl_str\n",
    "\n",
    "class mission3():\n",
    "    \n",
    "    def __init__(self, sentence):\n",
    "        self.s = sentence\n",
    "        self.clr_str = ''\n",
    "        self.ncl_str = self.s\n",
    "        self.l = len(self.s)\n",
    "        \n",
    "    def fltr(self):\n",
    "        while(self.ncl_str != ''):\n",
    "            n = 0\n",
    "            for i in range(2):\n",
    "                n+=1\n",
    "                if (len(self.ncl_str) < 3):\n",
    "                    if len(self.ncl_str) >= 1:\n",
    "                        if (int(self.ncl_str[0] >= 'a') & int(self.ncl_str[0] <= 'z')):\n",
    "                            return 'invalid'\n",
    "                    if len(self.ncl_str) >= 2:\n",
    "                        for j in range(1):\n",
    "                            if (int(self.ncl_str[j] >= 'a') & int(self.ncl_str[j] <= 'z')):\n",
    "                                return 'invalid'\n",
    "                    self.clr_str += self.ncl_str\n",
    "                    self.ncl_str = ''\n",
    "                elif (int(self.ncl_str[i] >= 'a') & int(self.ncl_str[i] <= 'z')):\n",
    "                    ch = self.ncl_str[i]\n",
    "                    c_n = 0\n",
    "                    for j in range(len(self.ncl_str)):\n",
    "                        if self.ncl_str[j] == ch:\n",
    "                            c_n+=1\n",
    "                    if (i == 0) & (c_n == 2):        \n",
    "                        clr, self.ncl_str = rule2(self.ncl_str)\n",
    "                        clr1, clr2 = rule1(clr)\n",
    "                        clr = clr1 + clr2\n",
    "                        if len(clr) > 0:\n",
    "                            self.clr_str += clr + ' '\n",
    "                    elif self.ncl_str[-1] == ch:\n",
    "                        self.clr_str += self.ncl_str[0] + ' '\n",
    "                        self.ncl_str = self.ncl_str[1:]\n",
    "                        break\n",
    "                    elif (i == 1) & (c_n > 0):\n",
    "                        clr, self.ncl_str = rule1(self.ncl_str)\n",
    "                        if len(clr) > 0:\n",
    "                            self.clr_str += clr + ' '\n",
    "                    else:\n",
    "                        return 'invalid'\n",
    "                    n = 0\n",
    "                    break\n",
    "                elif (n > 1):\n",
    "                    self.clr_str += self.ncl_str[0:n]\n",
    "                    self.ncl_str = self.ncl_str[n:self.l]\n",
    "        if self.clr_str[-1] == ' ':\n",
    "            self.clr_str = self.clr_str[:-1]\n",
    "        return self.clr_str"
   ]
  },
  {
   "cell_type": "code",
   "execution_count": 2,
   "metadata": {},
   "outputs": [
    {
     "data": {
      "text/plain": [
       "'HELL O WORLD'"
      ]
     },
     "execution_count": 2,
     "metadata": {},
     "output_type": "execute_result"
    }
   ],
   "source": [
    "sentence = \"HaEaLaLObWORLDb\"\n",
    "m3 = mission3(sentence)\n",
    "m3.fltr()"
   ]
  },
  {
   "cell_type": "code",
   "execution_count": null,
   "metadata": {},
   "outputs": [],
   "source": []
  }
 ],
 "metadata": {
  "kernelspec": {
   "display_name": "Python 3",
   "language": "python",
   "name": "python3"
  },
  "language_info": {
   "codemirror_mode": {
    "name": "ipython",
    "version": 3
   },
   "file_extension": ".py",
   "mimetype": "text/x-python",
   "name": "python",
   "nbconvert_exporter": "python",
   "pygments_lexer": "ipython3",
   "version": "3.6.6"
  }
 },
 "nbformat": 4,
 "nbformat_minor": 2
}
