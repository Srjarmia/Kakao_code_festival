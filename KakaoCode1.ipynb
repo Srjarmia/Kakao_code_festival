{
 "cells": [
  {
   "cell_type": "code",
   "execution_count": 1,
   "metadata": {},
   "outputs": [],
   "source": [
    "picture = [[1,1,2,2,4,4,4],[1,1,2,0,4,4,6],[1,2,0,0,4,6,6],[2,0,0,0,4,4,6],[0,0,0,0,0,4,6],[0,0,0,0,0,0,6],[0,0,0,0,0,0,6],[0,0,0,0,0,0,6],[0,0,0,0,5,0,6],[3,3,3,3,5,0,6],[4,3,4,3,5,0,6],[4,4,4,4,4,4,4]]"
   ]
  },
  {
   "cell_type": "code",
   "execution_count": 2,
   "metadata": {},
   "outputs": [],
   "source": [
    "class mission_1():\n",
    "    \n",
    "    def __init__(self, picture):\n",
    "        self.p = []\n",
    "        for i in range(len(picture)):\n",
    "            self.p+=[picture[i][:]]\n",
    "        self.m = len(self.p)\n",
    "        self.n = len(self.p[0])\n",
    "        self.area = 0\n",
    "        self.max_area = 0\n",
    "        self.div_area = 0\n",
    "        \n",
    "    def spr_ar(self, a, b, target):\n",
    "        self.spr_ar1(a, b, target)\n",
    "        self.spr_ar2(a, b, target)\n",
    "        self.spr_ar3(a, b, target)\n",
    "        self.spr_ar4(a, b, target)\n",
    "\n",
    "    def spr_ar1(self, a, b, target):\n",
    "        if (a+1) >= self.m:\n",
    "            return\n",
    "        elif (self.p[a+1][b] == target):\n",
    "            self.area+=1\n",
    "            self.p[a+1][b] = 0\n",
    "            a += 1\n",
    "            self.spr_ar(a, b, target)\n",
    "        else:\n",
    "            return\n",
    "            \n",
    "    def spr_ar2(self, a, b, target):\n",
    "        if (a-1) < 0:\n",
    "            return\n",
    "        elif (self.p[a-1][b] == target):\n",
    "            self.area+=1\n",
    "            self.p[a-1][b] = 0\n",
    "            a -= 1\n",
    "            self.spr_ar(a, b, target)\n",
    "        else:\n",
    "            return\n",
    "        \n",
    "    def spr_ar3(self, a, b, target):\n",
    "        if (b+1) >= self.n:\n",
    "            return \n",
    "        elif (self.p[a][b+1] == target):\n",
    "            self.area+=1\n",
    "            self.p[a][b+1] = 0\n",
    "            b += 1\n",
    "            self.spr_ar(a, b, target)\n",
    "        else:\n",
    "            return\n",
    "        \n",
    "    def spr_ar4(self, a, b, target):\n",
    "        if (b-1) < 0:\n",
    "            return\n",
    "        elif (self.p[a][b-1] == target):\n",
    "            self.area+=1\n",
    "            self.p[a][b-1] = 0\n",
    "            b -= 1\n",
    "            self.spr_ar(a, b, target)\n",
    "        else:\n",
    "            return\n",
    "        \n",
    "    def fd_ar(self):\n",
    "        for i in range(self.m):\n",
    "            for j in range(self.n):\n",
    "                self.area = 0\n",
    "                if (self.p[i][j] != 0):\n",
    "                    target = self.p[i][j]\n",
    "                    self.div_area+=1\n",
    "                    self.area+=1\n",
    "                    self.p[i][j] = 0\n",
    "                    self.spr_ar(i, j, target)\n",
    "                    if self.area > self.max_area:\n",
    "                        self.max_area = self.area\n",
    "                else:\n",
    "                    continue\n",
    "                \n",
    "        return [self.div_area, self.max_area]"
   ]
  },
  {
   "cell_type": "code",
   "execution_count": 3,
   "metadata": {},
   "outputs": [
    {
     "data": {
      "text/plain": [
       "[9, 11]"
      ]
     },
     "execution_count": 3,
     "metadata": {},
     "output_type": "execute_result"
    }
   ],
   "source": [
    "m1 = mission_1(picture)\n",
    "m1.fd_ar()"
   ]
  },
  {
   "cell_type": "code",
   "execution_count": null,
   "metadata": {},
   "outputs": [],
   "source": []
  }
 ],
 "metadata": {
  "kernelspec": {
   "display_name": "Python 3",
   "language": "python",
   "name": "python3"
  },
  "language_info": {
   "codemirror_mode": {
    "name": "ipython",
    "version": 3
   },
   "file_extension": ".py",
   "mimetype": "text/x-python",
   "name": "python",
   "nbconvert_exporter": "python",
   "pygments_lexer": "ipython3",
   "version": "3.6.6"
  }
 },
 "nbformat": 4,
 "nbformat_minor": 2
}
