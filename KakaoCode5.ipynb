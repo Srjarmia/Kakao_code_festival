{
 "cells": [
  {
   "cell_type": "code",
   "execution_count": 1,
   "metadata": {},
   "outputs": [],
   "source": [
    "class mission_5():\n",
    "    \n",
    "    def __init__(self, timetable):\n",
    "        self.tt = timetable\n",
    "        self.n = len(self.tt)\n",
    "        self.answer = 0\n",
    "    \n",
    "    def big_tent(self, b, d, k):\n",
    "        if b > d:\n",
    "            for l in range(d+1, b):\n",
    "                if [k, l] in self.tt:\n",
    "                    self.answer -= 1\n",
    "        else:\n",
    "            for l in range(b+1, d):\n",
    "                if [k, l] in self.tt:\n",
    "                    self.answer -= 1\n",
    "                    \n",
    "    def camp(self):\n",
    "        for i in range(self.n):\n",
    "            for j in range(i+1,self.n):\n",
    "                a, b = self.tt[i][0], self.tt[i][1]\n",
    "                c, d = self.tt[j][0], self.tt[j][1]\n",
    "                x = abs(c - a)\n",
    "                y = abs(d - b)\n",
    "                if (x * y) != 0:\n",
    "                    self.answer += 1\n",
    "                    if a > c:\n",
    "                        for k in range(c+1, a):\n",
    "                            self.big_tent(b, d, k)\n",
    "                    else:\n",
    "                        for k in range(a+1, c):\n",
    "                            self.big_tent(b, d, k)\n",
    "        return self.answer             "
   ]
  },
  {
   "cell_type": "code",
   "execution_count": 2,
   "metadata": {},
   "outputs": [
    {
     "data": {
      "text/plain": [
       "3"
      ]
     },
     "execution_count": 2,
     "metadata": {},
     "output_type": "execute_result"
    }
   ],
   "source": [
    "timetable = [[0, 0], [1, 1], [0, 2], [2, 0]]\n",
    "m5 = mission_5(timetable)\n",
    "m5.camp()"
   ]
  },
  {
   "cell_type": "code",
   "execution_count": null,
   "metadata": {},
   "outputs": [],
   "source": []
  }
 ],
 "metadata": {
  "kernelspec": {
   "display_name": "Python 3",
   "language": "python",
   "name": "python3"
  },
  "language_info": {
   "codemirror_mode": {
    "name": "ipython",
    "version": 3
   },
   "file_extension": ".py",
   "mimetype": "text/x-python",
   "name": "python",
   "nbconvert_exporter": "python",
   "pygments_lexer": "ipython3",
   "version": "3.6.6"
  }
 },
 "nbformat": 4,
 "nbformat_minor": 2
}
